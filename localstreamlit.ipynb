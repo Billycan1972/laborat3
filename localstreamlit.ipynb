{
 "cells": [
  {
   "cell_type": "code",
   "execution_count": 3,
   "id": "22db9f28",
   "metadata": {},
   "outputs": [
    {
     "name": "stderr",
     "output_type": "stream",
     "text": [
      "2025-05-14 01:18:28.606 WARNING streamlit.runtime.scriptrunner_utils.script_run_context: Thread 'MainThread': missing ScriptRunContext! This warning can be ignored when running in bare mode.\n",
      "2025-05-14 01:18:28.663 \n",
      "  \u001b[33m\u001b[1mWarning:\u001b[0m to view this Streamlit app on a browser, run it with the following\n",
      "  command:\n",
      "\n",
      "    streamlit run C:\\Users\\waldo\\AppData\\Roaming\\Python\\Python312\\site-packages\\ipykernel_launcher.py [ARGUMENTS]\n",
      "2025-05-14 01:18:28.664 Thread 'MainThread': missing ScriptRunContext! This warning can be ignored when running in bare mode.\n",
      "2025-05-14 01:18:28.669 Thread 'MainThread': missing ScriptRunContext! This warning can be ignored when running in bare mode.\n",
      "2025-05-14 01:18:28.670 Thread 'MainThread': missing ScriptRunContext! This warning can be ignored when running in bare mode.\n",
      "2025-05-14 01:18:28.671 Thread 'MainThread': missing ScriptRunContext! This warning can be ignored when running in bare mode.\n",
      "2025-05-14 01:18:28.672 Thread 'MainThread': missing ScriptRunContext! This warning can be ignored when running in bare mode.\n",
      "2025-05-14 01:18:28.674 Session state does not function when running a script without `streamlit run`\n",
      "2025-05-14 01:18:28.675 Thread 'MainThread': missing ScriptRunContext! This warning can be ignored when running in bare mode.\n",
      "2025-05-14 01:18:28.677 Thread 'MainThread': missing ScriptRunContext! This warning can be ignored when running in bare mode.\n",
      "2025-05-14 01:18:28.796 Thread 'MainThread': missing ScriptRunContext! This warning can be ignored when running in bare mode.\n",
      "2025-05-14 01:18:28.811 Thread 'MainThread': missing ScriptRunContext! This warning can be ignored when running in bare mode.\n",
      "2025-05-14 01:18:28.812 Thread 'MainThread': missing ScriptRunContext! This warning can be ignored when running in bare mode.\n",
      "2025-05-14 01:18:28.812 Thread 'MainThread': missing ScriptRunContext! This warning can be ignored when running in bare mode.\n"
     ]
    },
    {
     "data": {
      "text/plain": [
       "DeltaGenerator()"
      ]
     },
     "execution_count": 3,
     "metadata": {},
     "output_type": "execute_result"
    }
   ],
   "source": [
    "import streamlit as st\n",
    "import pandas as pd\n",
    "import plotly.express as px\n",
    "import requests\n",
    "from io import StringIO\n",
    "\n",
    "# Leer archivo combinado desde Dropbox con requests (evita error SSL)\n",
    "dropbox_url = \"https://www.dropbox.com/scl/fi/pwmcuwwj3v4i6qe5j5ozs/datos_finales.txt?rlkey=zy95sz3t34uy1quiadz4dsmtq&st=cf675r3m&dl=1\"\n",
    "r = requests.get(dropbox_url)\n",
    "df = pd.read_csv(StringIO(r.text), sep='\\t')\n",
    "\n",
    "# Convertir a datetime y luego a Period mensual\n",
    "df['periodo'] = pd.to_datetime(df['periodo'])\n",
    "df['periodo'] = df['periodo'].dt.to_period('M')\n",
    "\n",
    "# Crear nombre descriptivo de producto\n",
    "df['producto'] = df['product_id'].astype(str) + \" - \" + df['brand'] + \" \" + df['cat2']\n",
    "\n",
    "# Agrupar por mes y producto\n",
    "df_prod = df.groupby(['periodo', 'producto'])['tn'].sum().reset_index()\n",
    "\n",
    "# Convertir periodo a string para graficar\n",
    "df_prod['periodo_str'] = df_prod['periodo'].astype(str)\n",
    "\n",
    "# Título\n",
    "st.title(\"Evolución mensual de productos\")\n",
    "\n",
    "# Selector de producto\n",
    "productos = sorted(df_prod['producto'].unique())\n",
    "producto_sel = st.selectbox(\"Seleccioná un producto\", productos)\n",
    "\n",
    "# Filtrar y graficar\n",
    "df_sel = df_prod[df_prod['producto'] == producto_sel]\n",
    "fig = px.line(df_sel, x='periodo_str', y='tn', title=producto_sel, markers=True)\n",
    "\n",
    "st.plotly_chart(fig, use_container_width=True)\n",
    "\n"
   ]
  }
 ],
 "metadata": {
  "kernelspec": {
   "display_name": "nuevito",
   "language": "python",
   "name": "python3"
  },
  "language_info": {
   "codemirror_mode": {
    "name": "ipython",
    "version": 3
   },
   "file_extension": ".py",
   "mimetype": "text/x-python",
   "name": "python",
   "nbconvert_exporter": "python",
   "pygments_lexer": "ipython3",
   "version": "3.12.9"
  }
 },
 "nbformat": 4,
 "nbformat_minor": 5
}
